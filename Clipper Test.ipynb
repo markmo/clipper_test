{
 "cells": [
  {
   "cell_type": "code",
   "execution_count": 61,
   "metadata": {},
   "outputs": [],
   "source": [
    "from clipper_admin import ClipperConnection, DockerContainerManager\n",
    "from clipper_admin.deployers import python as python_deployer\n",
    "from clipper_admin.deployers.tensorflow import deploy_tensorflow_model, create_endpoint\n",
    "import os\n",
    "import tensorflow as tf"
   ]
  },
  {
   "cell_type": "code",
   "execution_count": 77,
   "metadata": {},
   "outputs": [
    {
     "name": "stderr",
     "output_type": "stream",
     "text": [
      "18-06-21:21:17:39 INFO     [docker_container_manager.py:119] Starting managed Redis instance in Docker\n",
      "18-06-21:21:17:44 INFO     [clipper_admin.py:126] Clipper is running\n"
     ]
    }
   ],
   "source": [
    "conn = ClipperConnection(DockerContainerManager())\n",
    "conn.start_clipper()"
   ]
  },
  {
   "cell_type": "code",
   "execution_count": null,
   "metadata": {},
   "outputs": [],
   "source": [
    "conn.register_application(name='hello-world', input_type='doubles', default_output='-1.0', slo_micros=1000000)"
   ]
  },
  {
   "cell_type": "code",
   "execution_count": null,
   "metadata": {},
   "outputs": [],
   "source": [
    "conn.delete_application(name='simple')"
   ]
  },
  {
   "cell_type": "code",
   "execution_count": 79,
   "metadata": {},
   "outputs": [
    {
     "name": "stderr",
     "output_type": "stream",
     "text": [
      "18-06-21:21:18:26 ERROR    [clipper_admin.py:197] Received error status code: 400 and message: application 'simple' already exists\n"
     ]
    },
    {
     "ename": "ClipperException",
     "evalue": "Received error status code: 400 and message: application 'simple' already exists",
     "output_type": "error",
     "traceback": [
      "\u001b[0;31m---------------------------------------------------------------------------\u001b[0m",
      "\u001b[0;31mClipperException\u001b[0m                          Traceback (most recent call last)",
      "\u001b[0;32m<ipython-input-79-9244907aa8d6>\u001b[0m in \u001b[0;36m<module>\u001b[0;34m()\u001b[0m\n\u001b[0;32m----> 1\u001b[0;31m \u001b[0mconn\u001b[0m\u001b[0;34m.\u001b[0m\u001b[0mregister_application\u001b[0m\u001b[0;34m(\u001b[0m\u001b[0mname\u001b[0m\u001b[0;34m=\u001b[0m\u001b[0;34m'simple'\u001b[0m\u001b[0;34m,\u001b[0m \u001b[0minput_type\u001b[0m\u001b[0;34m=\u001b[0m\u001b[0;34m'floats'\u001b[0m\u001b[0;34m,\u001b[0m \u001b[0mdefault_output\u001b[0m\u001b[0;34m=\u001b[0m\u001b[0;34m'-1.0'\u001b[0m\u001b[0;34m,\u001b[0m \u001b[0mslo_micros\u001b[0m\u001b[0;34m=\u001b[0m\u001b[0;36m10000000\u001b[0m\u001b[0;34m)\u001b[0m\u001b[0;34m\u001b[0m\u001b[0m\n\u001b[0m",
      "\u001b[0;32m/Users/markmo/miniconda3/envs/clipper/lib/python2.7/site-packages/clipper_admin/clipper_admin.pyc\u001b[0m in \u001b[0;36mregister_application\u001b[0;34m(self, name, input_type, default_output, slo_micros)\u001b[0m\n\u001b[1;32m    196\u001b[0m                 code=r.status_code, msg=r.text)\n\u001b[1;32m    197\u001b[0m             \u001b[0mlogger\u001b[0m\u001b[0;34m.\u001b[0m\u001b[0merror\u001b[0m\u001b[0;34m(\u001b[0m\u001b[0mmsg\u001b[0m\u001b[0;34m)\u001b[0m\u001b[0;34m\u001b[0m\u001b[0m\n\u001b[0;32m--> 198\u001b[0;31m             \u001b[0;32mraise\u001b[0m \u001b[0mClipperException\u001b[0m\u001b[0;34m(\u001b[0m\u001b[0mmsg\u001b[0m\u001b[0;34m)\u001b[0m\u001b[0;34m\u001b[0m\u001b[0m\n\u001b[0m\u001b[1;32m    199\u001b[0m         \u001b[0;32melse\u001b[0m\u001b[0;34m:\u001b[0m\u001b[0;34m\u001b[0m\u001b[0m\n\u001b[1;32m    200\u001b[0m             logger.info(\"Application {app} was successfully registered\".format(\n",
      "\u001b[0;31mClipperException\u001b[0m: Received error status code: 400 and message: application 'simple' already exists"
     ]
    }
   ],
   "source": [
    "conn.register_application(name='simple', input_type='floats', default_output='-1.0', slo_micros=10000000)"
   ]
  },
  {
   "cell_type": "code",
   "execution_count": 80,
   "metadata": {},
   "outputs": [
    {
     "name": "stdout",
     "output_type": "stream",
     "text": [
      "INFO:tensorflow:Restoring parameters from /Users/markmo/src/DeepLearning/dltemplate/src/tf_model/simple/data/model\n"
     ]
    },
    {
     "name": "stderr",
     "output_type": "stream",
     "text": [
      "18-06-21:21:18:34 INFO     [tf_logging.py:82] Restoring parameters from /Users/markmo/src/DeepLearning/dltemplate/src/tf_model/simple/data/model\n"
     ]
    }
   ],
   "source": [
    "sess = tf.Session()\n",
    "saver = tf.train.import_meta_graph('/Users/markmo/src/DeepLearning/dltemplate/src/tf_model/simple/data/model.meta')\n",
    "saver.restore(sess, tf.train.latest_checkpoint('/Users/markmo/src/DeepLearning/dltemplate/src/tf_model/simple/data/'))"
   ]
  },
  {
   "cell_type": "code",
   "execution_count": null,
   "metadata": {},
   "outputs": [],
   "source": [
    "[n.name for n in tf.get_default_graph().as_graph_def().node]"
   ]
  },
  {
   "cell_type": "code",
   "execution_count": null,
   "metadata": {},
   "outputs": [],
   "source": [
    "# dir = os.path.dirname(os.path.realpath(__file__))\n",
    "dir = '.'\n",
    "\n",
    "def freeze_graph(model_dir, output_node_names):\n",
    "    \"\"\"Extract the sub graph defined by the output nodes and convert \n",
    "    all its variables into constant \n",
    "    Args:\n",
    "        model_dir: the root folder containing the checkpoint state file\n",
    "        output_node_names: a string, containing all the output node's names, \n",
    "                            comma separated\n",
    "    \"\"\"\n",
    "    if not tf.gfile.Exists(model_dir):\n",
    "        raise AssertionError(\n",
    "            \"Export directory doesn't exists. Please specify an export \"\n",
    "            \"directory: %s\" % model_dir)\n",
    "\n",
    "    if not output_node_names:\n",
    "        print(\"You need to supply the name of a node to --output_node_names.\")\n",
    "        return -1\n",
    "\n",
    "    # We retrieve our checkpoint fullpath\n",
    "    checkpoint = tf.train.get_checkpoint_state(model_dir)\n",
    "    input_checkpoint = checkpoint.model_checkpoint_path\n",
    "    \n",
    "    # We precise the file fullname of our freezed graph\n",
    "    absolute_model_dir = \"/\".join(input_checkpoint.split('/')[:-1])\n",
    "    output_graph = absolute_model_dir + \"/frozen_model.pb\"\n",
    "\n",
    "    # We clear devices to allow TensorFlow to control on which device it will load operations\n",
    "    clear_devices = True\n",
    "\n",
    "    # We start a session using a temporary fresh Graph\n",
    "    with tf.Session(graph=tf.Graph()) as sess:\n",
    "        # We import the meta graph in the current default Graph\n",
    "        saver = tf.train.import_meta_graph(input_checkpoint + '.meta', clear_devices=clear_devices)\n",
    "\n",
    "        # We restore the weights\n",
    "        saver.restore(sess, input_checkpoint)\n",
    "\n",
    "        # We use a built-in TF helper to export variables to constants\n",
    "        output_graph_def = tf.graph_util.convert_variables_to_constants(\n",
    "            sess, # The session is used to retrieve the weights\n",
    "            tf.get_default_graph().as_graph_def(), # The graph_def is used to retrieve the nodes \n",
    "            output_node_names.split(\",\") # The output node names are used to select the useful nodes\n",
    "        ) \n",
    "\n",
    "        # Finally we serialize and dump the output graph to the filesystem\n",
    "        with tf.gfile.GFile(output_graph, \"wb\") as f:\n",
    "            f.write(output_graph_def.SerializeToString())\n",
    "        print(\"%d ops in the final graph.\" % len(output_graph_def.node))\n",
    "\n",
    "    return output_graph_def\n",
    "\n",
    "# if __name__ == '__main__':\n",
    "#     parser = argparse.ArgumentParser()\n",
    "#     parser.add_argument(\"--model_dir\", type=str, default=\"\", help=\"Model folder to export\")\n",
    "#     parser.add_argument(\"--output_node_names\", type=str, default=\"\", help=\"The name of the output nodes, comma separated.\")\n",
    "#     args = parser.parse_args()\n",
    "\n",
    "#     freeze_graph(args.model_dir, args.output_node_names)"
   ]
  },
  {
   "cell_type": "code",
   "execution_count": null,
   "metadata": {},
   "outputs": [],
   "source": [
    "freeze_graph('/Users/markmo/src/DeepLearning/dltemplate/src/tf_model/simple/data/', 'predict_op')"
   ]
  },
  {
   "cell_type": "code",
   "execution_count": 4,
   "metadata": {},
   "outputs": [],
   "source": [
    "def load_graph(frozen_graph_filename):\n",
    "    # We load the protobuf file from the disk and parse it to retrieve the \n",
    "    # unserialized graph_def\n",
    "    with tf.gfile.GFile(frozen_graph_filename, \"rb\") as f:\n",
    "        graph_def = tf.GraphDef()\n",
    "        graph_def.ParseFromString(f.read())\n",
    "\n",
    "    # Then, we import the graph_def into a new Graph and returns it \n",
    "    with tf.Graph().as_default() as graph:\n",
    "        # The name var will prefix every op/nodes in your graph\n",
    "        # Since we load everything in a new graph, this is not needed\n",
    "        tf.import_graph_def(graph_def, name=\"prefix\")\n",
    "    return graph"
   ]
  },
  {
   "cell_type": "code",
   "execution_count": null,
   "metadata": {},
   "outputs": [],
   "source": [
    "graph = load_graph('/Users/markmo/src/DeepLearning/dltemplate/src/tf_model/simple/data/frozen_model.pb')"
   ]
  },
  {
   "cell_type": "code",
   "execution_count": null,
   "metadata": {},
   "outputs": [],
   "source": [
    "for op in graph.get_operations():\n",
    "    print(op.name)"
   ]
  },
  {
   "cell_type": "code",
   "execution_count": null,
   "metadata": {},
   "outputs": [],
   "source": [
    "with tf.Session(graph=graph) as sess:\n",
    "    y_hat = sess.run(y, feed_dict={x: [[ 0.          ,0.          ,0.          ,0.          ,0.          ,0.          ,0.\n",
    "  ,0.          ,0.          ,0.          ,0.          ,0.          ,0.          ,0.\n",
    "  ,0.          ,0.          ,0.          ,0.          ,0.          ,0.          ,0.\n",
    "  ,0.          ,0.          ,0.          ,0.          ,0.          ,0.          ,0.\n",
    "  ,0.          ,0.          ,0.          ,0.          ,0.          ,0.          ,0.\n",
    "  ,0.          ,0.          ,0.          ,0.          ,0.          ,0.          ,0.\n",
    "  ,0.          ,0.          ,0.          ,0.          ,0.          ,0.          ,0.\n",
    "  ,0.          ,0.          ,0.          ,0.          ,0.          ,0.          ,0.\n",
    "  ,0.          ,0.          ,0.          ,0.          ,0.          ,0.          ,0.\n",
    "  ,0.          ,0.          ,0.          ,0.          ,0.          ,0.          ,0.\n",
    "  ,0.          ,0.          ,0.          ,0.          ,0.          ,0.          ,0.\n",
    "  ,0.          ,0.          ,0.          ,0.          ,0.          ,0.          ,0.\n",
    "  ,0.          ,0.          ,0.          ,0.          ,0.          ,0.          ,0.\n",
    "  ,0.          ,0.          ,0.          ,0.          ,0.          ,0.          ,0.\n",
    "  ,0.          ,0.          ,0.          ,0.          ,0.          ,0.          ,0.\n",
    "  ,0.          ,0.          ,0.          ,0.          ,0.          ,0.          ,0.\n",
    "  ,0.          ,0.          ,0.          ,0.          ,0.          ,0.          ,0.\n",
    "  ,0.          ,0.          ,0.          ,0.          ,0.          ,0.          ,0.\n",
    "  ,0.          ,0.          ,0.          ,0.          ,0.          ,0.          ,0.\n",
    "  ,0.          ,0.          ,0.          ,0.          ,0.          ,0.          ,0.\n",
    "  ,0.          ,0.          ,0.          ,0.          ,0.          ,0.          ,0.\n",
    "  ,0.          ,0.          ,0.          ,0.          ,0.          ,0.01176471\n",
    "  ,0.07058824  ,0.07058824  ,0.07058824  ,0.49411765  ,0.53333336  ,0.68627453\n",
    "  ,0.10196079  ,0.65098041  ,1.          ,0.96862745  ,0.49803922  ,0.          ,0.\n",
    "  ,0.          ,0.          ,0.          ,0.          ,0.          ,0.          ,0.\n",
    "  ,0.          ,0.          ,0.          ,0.11764706  ,0.14117648  ,0.36862746\n",
    "  ,0.60392159  ,0.66666669  ,0.99215686  ,0.99215686  ,0.99215686  ,0.99215686\n",
    "  ,0.99215686  ,0.88235295  ,0.67450982  ,0.99215686  ,0.94901961  ,0.7647059\n",
    "  ,0.25098041  ,0.          ,0.          ,0.          ,0.          ,0.          ,0.\n",
    "  ,0.          ,0.          ,0.          ,0.          ,0.          ,0.19215687\n",
    "  ,0.93333334  ,0.99215686  ,0.99215686  ,0.99215686  ,0.99215686  ,0.99215686\n",
    "  ,0.99215686  ,0.99215686  ,0.99215686  ,0.98431373  ,0.36470589  ,0.32156864\n",
    "  ,0.32156864  ,0.21960784  ,0.15294118  ,0.          ,0.          ,0.          ,0.\n",
    "  ,0.          ,0.          ,0.          ,0.          ,0.          ,0.          ,0.\n",
    "  ,0.          ,0.07058824  ,0.85882354  ,0.99215686  ,0.99215686  ,0.99215686\n",
    "  ,0.99215686  ,0.99215686  ,0.7764706   ,0.71372551  ,0.96862745  ,0.94509804\n",
    "  ,0.          ,0.          ,0.          ,0.          ,0.          ,0.          ,0.\n",
    "  ,0.          ,0.          ,0.          ,0.          ,0.          ,0.          ,0.\n",
    "  ,0.          ,0.          ,0.          ,0.          ,0.3137255   ,0.61176473\n",
    "  ,0.41960785  ,0.99215686  ,0.99215686  ,0.80392158  ,0.04313726  ,0.\n",
    "  ,0.16862746  ,0.60392159  ,0.          ,0.          ,0.          ,0.          ,0.\n",
    "  ,0.          ,0.          ,0.          ,0.          ,0.          ,0.          ,0.\n",
    "  ,0.          ,0.          ,0.          ,0.          ,0.          ,0.          ,0.\n",
    "  ,0.05490196  ,0.00392157  ,0.60392159  ,0.99215686  ,0.35294119  ,0.          ,0.\n",
    "  ,0.          ,0.          ,0.          ,0.          ,0.          ,0.          ,0.\n",
    "  ,0.          ,0.          ,0.          ,0.          ,0.          ,0.          ,0.\n",
    "  ,0.          ,0.          ,0.          ,0.          ,0.          ,0.          ,0.\n",
    "  ,0.          ,0.          ,0.54509807  ,0.99215686  ,0.74509805  ,0.00784314\n",
    "  ,0.          ,0.          ,0.          ,0.          ,0.          ,0.          ,0.\n",
    "  ,0.          ,0.          ,0.          ,0.          ,0.          ,0.          ,0.\n",
    "  ,0.          ,0.          ,0.          ,0.          ,0.          ,0.          ,0.\n",
    "  ,0.          ,0.          ,0.          ,0.04313726  ,0.74509805  ,0.99215686\n",
    "  ,0.27450982  ,0.          ,0.          ,0.          ,0.          ,0.          ,0.\n",
    "  ,0.          ,0.          ,0.          ,0.          ,0.          ,0.          ,0.\n",
    "  ,0.          ,0.          ,0.          ,0.          ,0.          ,0.          ,0.\n",
    "  ,0.          ,0.          ,0.          ,0.          ,0.          ,0.13725491\n",
    "  ,0.94509804  ,0.88235295  ,0.627451    ,0.42352942  ,0.00392157  ,0.          ,0.\n",
    "  ,0.          ,0.          ,0.          ,0.          ,0.          ,0.          ,0.\n",
    "  ,0.          ,0.          ,0.          ,0.          ,0.          ,0.          ,0.\n",
    "  ,0.          ,0.          ,0.          ,0.          ,0.          ,0.          ,0.\n",
    "  ,0.31764707  ,0.94117647  ,0.99215686  ,0.99215686  ,0.46666667  ,0.09803922\n",
    "  ,0.          ,0.          ,0.          ,0.          ,0.          ,0.          ,0.\n",
    "  ,0.          ,0.          ,0.          ,0.          ,0.          ,0.          ,0.\n",
    "  ,0.          ,0.          ,0.          ,0.          ,0.          ,0.          ,0.\n",
    "  ,0.          ,0.          ,0.17647059  ,0.72941178  ,0.99215686  ,0.99215686\n",
    "  ,0.58823532  ,0.10588235  ,0.          ,0.          ,0.          ,0.          ,0.\n",
    "  ,0.          ,0.          ,0.          ,0.          ,0.          ,0.          ,0.\n",
    "  ,0.          ,0.          ,0.          ,0.          ,0.          ,0.          ,0.\n",
    "  ,0.          ,0.          ,0.          ,0.          ,0.0627451   ,0.36470589\n",
    "  ,0.98823529  ,0.99215686  ,0.73333335  ,0.          ,0.          ,0.          ,0.\n",
    "  ,0.          ,0.          ,0.          ,0.          ,0.          ,0.          ,0.\n",
    "  ,0.          ,0.          ,0.          ,0.          ,0.          ,0.          ,0.\n",
    "  ,0.          ,0.          ,0.          ,0.          ,0.          ,0.          ,0.\n",
    "  ,0.97647059  ,0.99215686  ,0.97647059  ,0.25098041  ,0.          ,0.          ,0.\n",
    "  ,0.          ,0.          ,0.          ,0.          ,0.          ,0.          ,0.\n",
    "  ,0.          ,0.          ,0.          ,0.          ,0.          ,0.          ,0.\n",
    "  ,0.          ,0.          ,0.          ,0.          ,0.18039216  ,0.50980395\n",
    "  ,0.71764708  ,0.99215686  ,0.99215686  ,0.81176472  ,0.00784314  ,0.          ,0.\n",
    "  ,0.          ,0.          ,0.          ,0.          ,0.          ,0.          ,0.\n",
    "  ,0.          ,0.          ,0.          ,0.          ,0.          ,0.          ,0.\n",
    "  ,0.          ,0.          ,0.          ,0.15294118  ,0.58039218  ,0.89803922\n",
    "  ,0.99215686  ,0.99215686  ,0.99215686  ,0.98039216  ,0.71372551  ,0.          ,0.\n",
    "  ,0.          ,0.          ,0.          ,0.          ,0.          ,0.          ,0.\n",
    "  ,0.          ,0.          ,0.          ,0.          ,0.          ,0.          ,0.\n",
    "  ,0.          ,0.          ,0.09411765  ,0.44705883  ,0.86666667  ,0.99215686\n",
    "  ,0.99215686  ,0.99215686  ,0.99215686  ,0.78823531  ,0.30588236  ,0.          ,0.\n",
    "  ,0.          ,0.          ,0.          ,0.          ,0.          ,0.          ,0.\n",
    "  ,0.          ,0.          ,0.          ,0.          ,0.          ,0.          ,0.\n",
    "  ,0.          ,0.09019608  ,0.25882354  ,0.83529413  ,0.99215686  ,0.99215686\n",
    "  ,0.99215686  ,0.99215686  ,0.7764706   ,0.31764707  ,0.00784314  ,0.          ,0.\n",
    "  ,0.          ,0.          ,0.          ,0.          ,0.          ,0.          ,0.\n",
    "  ,0.          ,0.          ,0.          ,0.          ,0.          ,0.          ,0.\n",
    "  ,0.07058824  ,0.67058825  ,0.85882354  ,0.99215686  ,0.99215686  ,0.99215686\n",
    "  ,0.99215686  ,0.7647059   ,0.3137255   ,0.03529412  ,0.          ,0.          ,0.\n",
    "  ,0.          ,0.          ,0.          ,0.          ,0.          ,0.          ,0.\n",
    "  ,0.          ,0.          ,0.          ,0.          ,0.          ,0.\n",
    "  ,0.21568628  ,0.67450982  ,0.88627452  ,0.99215686  ,0.99215686  ,0.99215686\n",
    "  ,0.99215686  ,0.95686275  ,0.52156866  ,0.04313726  ,0.          ,0.          ,0.\n",
    "  ,0.          ,0.          ,0.          ,0.          ,0.          ,0.          ,0.\n",
    "  ,0.          ,0.          ,0.          ,0.          ,0.          ,0.          ,0.\n",
    "  ,0.          ,0.53333336  ,0.99215686  ,0.99215686  ,0.99215686  ,0.83137256\n",
    "  ,0.52941179  ,0.51764709  ,0.0627451   ,0.          ,0.          ,0.          ,0.\n",
    "  ,0.          ,0.          ,0.          ,0.          ,0.          ,0.          ,0.\n",
    "  ,0.          ,0.          ,0.          ,0.          ,0.          ,0.          ,0.\n",
    "  ,0.          ,0.          ,0.          ,0.          ,0.          ,0.          ,0.\n",
    "  ,0.          ,0.          ,0.          ,0.          ,0.          ,0.          ,0.\n",
    "  ,0.          ,0.          ,0.          ,0.          ,0.          ,0.          ,0.\n",
    "  ,0.          ,0.          ,0.          ,0.          ,0.          ,0.          ,0.\n",
    "  ,0.          ,0.          ,0.          ,0.          ,0.          ,0.          ,0.\n",
    "  ,0.          ,0.          ,0.          ,0.          ,0.          ,0.          ,0.\n",
    "  ,0.          ,0.          ,0.          ,0.          ,0.          ,0.          ,0.\n",
    "  ,0.          ,0.          ,0.          ,0.          ,0.          ,0.          ,0.\n",
    "  ,0.          ,0.          ,0.          ,0.          ,0.          ,0.          ,0.\n",
    "  ,0.          ,0.          ,0.          ,0.          ,0.          ,0.          ,0.\n",
    "  ,0.          ,0.          ,0.          ,0.          ,0.          ,0.          ,0.\n",
    "  ,0.          ,0.          ,0.          ,0.          ,0.        ]]})\n",
    "    print(y_hat[0])"
   ]
  },
  {
   "cell_type": "code",
   "execution_count": 81,
   "metadata": {},
   "outputs": [],
   "source": [
    "#graph = load_graph('/Users/markmo/src/DeepLearning/dltemplate/src/tf_model/simple/data/frozen_model.pb')\n",
    "\n",
    "def predict(sess, inputs):\n",
    "    return sess.run('predict_op:0', feed_dict={'input_X:0': inputs})\n",
    "\n",
    "\n",
    "#     x = graph.get_tensor_by_name('prefix/input_X:0')\n",
    "#     y = graph.get_tensor_by_name('prefix/predict_op:0')\n"
   ]
  },
  {
   "cell_type": "code",
   "execution_count": null,
   "metadata": {},
   "outputs": [],
   "source": [
    "x = graph.get_tensor_by_name('prefix/input_X:0')\n",
    "y = graph.get_tensor_by_name('prefix/predict_op:0')"
   ]
  },
  {
   "cell_type": "code",
   "execution_count": 82,
   "metadata": {},
   "outputs": [
    {
     "name": "stdout",
     "output_type": "stream",
     "text": [
      "INFO:tensorflow:Restoring parameters from /Users/markmo/src/DeepLearning/dltemplate/src/tf_model/simple/data/model\n"
     ]
    },
    {
     "name": "stderr",
     "output_type": "stream",
     "text": [
      "18-06-21:21:18:51 INFO     [tf_logging.py:82] Restoring parameters from /Users/markmo/src/DeepLearning/dltemplate/src/tf_model/simple/data/model\n"
     ]
    }
   ],
   "source": [
    "tf.reset_default_graph()\n",
    "sess = tf.Session()\n",
    "saver = tf.train.import_meta_graph('/Users/markmo/src/DeepLearning/dltemplate/src/tf_model/simple/data/model.meta')\n",
    "saver.restore(sess, tf.train.latest_checkpoint('/Users/markmo/src/DeepLearning/dltemplate/src/tf_model/simple/data/'))"
   ]
  },
  {
   "cell_type": "code",
   "execution_count": 84,
   "metadata": {},
   "outputs": [
    {
     "data": {
      "text/plain": [
       "array([5])"
      ]
     },
     "execution_count": 84,
     "metadata": {},
     "output_type": "execute_result"
    }
   ],
   "source": [
    "predict(sess, [[ 0.          ,0.          ,0.          ,0.          ,0.          ,0.          ,0.\n",
    "  ,0.          ,0.          ,0.          ,0.          ,0.          ,0.          ,0.\n",
    "  ,0.          ,0.          ,0.          ,0.          ,0.          ,0.          ,0.\n",
    "  ,0.          ,0.          ,0.          ,0.          ,0.          ,0.          ,0.\n",
    "  ,0.          ,0.          ,0.          ,0.          ,0.          ,0.          ,0.\n",
    "  ,0.          ,0.          ,0.          ,0.          ,0.          ,0.          ,0.\n",
    "  ,0.          ,0.          ,0.          ,0.          ,0.          ,0.          ,0.\n",
    "  ,0.          ,0.          ,0.          ,0.          ,0.          ,0.          ,0.\n",
    "  ,0.          ,0.          ,0.          ,0.          ,0.          ,0.          ,0.\n",
    "  ,0.          ,0.          ,0.          ,0.          ,0.          ,0.          ,0.\n",
    "  ,0.          ,0.          ,0.          ,0.          ,0.          ,0.          ,0.\n",
    "  ,0.          ,0.          ,0.          ,0.          ,0.          ,0.          ,0.\n",
    "  ,0.          ,0.          ,0.          ,0.          ,0.          ,0.          ,0.\n",
    "  ,0.          ,0.          ,0.          ,0.          ,0.          ,0.          ,0.\n",
    "  ,0.          ,0.          ,0.          ,0.          ,0.          ,0.          ,0.\n",
    "  ,0.          ,0.          ,0.          ,0.          ,0.          ,0.          ,0.\n",
    "  ,0.          ,0.          ,0.          ,0.          ,0.          ,0.          ,0.\n",
    "  ,0.          ,0.          ,0.          ,0.          ,0.          ,0.          ,0.\n",
    "  ,0.          ,0.          ,0.          ,0.          ,0.          ,0.          ,0.\n",
    "  ,0.          ,0.          ,0.          ,0.          ,0.          ,0.          ,0.\n",
    "  ,0.          ,0.          ,0.          ,0.          ,0.          ,0.          ,0.\n",
    "  ,0.          ,0.          ,0.          ,0.          ,0.          ,0.01176471\n",
    "  ,0.07058824  ,0.07058824  ,0.07058824  ,0.49411765  ,0.53333336  ,0.68627453\n",
    "  ,0.10196079  ,0.65098041  ,1.          ,0.96862745  ,0.49803922  ,0.          ,0.\n",
    "  ,0.          ,0.          ,0.          ,0.          ,0.          ,0.          ,0.\n",
    "  ,0.          ,0.          ,0.          ,0.11764706  ,0.14117648  ,0.36862746\n",
    "  ,0.60392159  ,0.66666669  ,0.99215686  ,0.99215686  ,0.99215686  ,0.99215686\n",
    "  ,0.99215686  ,0.88235295  ,0.67450982  ,0.99215686  ,0.94901961  ,0.7647059\n",
    "  ,0.25098041  ,0.          ,0.          ,0.          ,0.          ,0.          ,0.\n",
    "  ,0.          ,0.          ,0.          ,0.          ,0.          ,0.19215687\n",
    "  ,0.93333334  ,0.99215686  ,0.99215686  ,0.99215686  ,0.99215686  ,0.99215686\n",
    "  ,0.99215686  ,0.99215686  ,0.99215686  ,0.98431373  ,0.36470589  ,0.32156864\n",
    "  ,0.32156864  ,0.21960784  ,0.15294118  ,0.          ,0.          ,0.          ,0.\n",
    "  ,0.          ,0.          ,0.          ,0.          ,0.          ,0.          ,0.\n",
    "  ,0.          ,0.07058824  ,0.85882354  ,0.99215686  ,0.99215686  ,0.99215686\n",
    "  ,0.99215686  ,0.99215686  ,0.7764706   ,0.71372551  ,0.96862745  ,0.94509804\n",
    "  ,0.          ,0.          ,0.          ,0.          ,0.          ,0.          ,0.\n",
    "  ,0.          ,0.          ,0.          ,0.          ,0.          ,0.          ,0.\n",
    "  ,0.          ,0.          ,0.          ,0.          ,0.3137255   ,0.61176473\n",
    "  ,0.41960785  ,0.99215686  ,0.99215686  ,0.80392158  ,0.04313726  ,0.\n",
    "  ,0.16862746  ,0.60392159  ,0.          ,0.          ,0.          ,0.          ,0.\n",
    "  ,0.          ,0.          ,0.          ,0.          ,0.          ,0.          ,0.\n",
    "  ,0.          ,0.          ,0.          ,0.          ,0.          ,0.          ,0.\n",
    "  ,0.05490196  ,0.00392157  ,0.60392159  ,0.99215686  ,0.35294119  ,0.          ,0.\n",
    "  ,0.          ,0.          ,0.          ,0.          ,0.          ,0.          ,0.\n",
    "  ,0.          ,0.          ,0.          ,0.          ,0.          ,0.          ,0.\n",
    "  ,0.          ,0.          ,0.          ,0.          ,0.          ,0.          ,0.\n",
    "  ,0.          ,0.          ,0.54509807  ,0.99215686  ,0.74509805  ,0.00784314\n",
    "  ,0.          ,0.          ,0.          ,0.          ,0.          ,0.          ,0.\n",
    "  ,0.          ,0.          ,0.          ,0.          ,0.          ,0.          ,0.\n",
    "  ,0.          ,0.          ,0.          ,0.          ,0.          ,0.          ,0.\n",
    "  ,0.          ,0.          ,0.          ,0.04313726  ,0.74509805  ,0.99215686\n",
    "  ,0.27450982  ,0.          ,0.          ,0.          ,0.          ,0.          ,0.\n",
    "  ,0.          ,0.          ,0.          ,0.          ,0.          ,0.          ,0.\n",
    "  ,0.          ,0.          ,0.          ,0.          ,0.          ,0.          ,0.\n",
    "  ,0.          ,0.          ,0.          ,0.          ,0.          ,0.13725491\n",
    "  ,0.94509804  ,0.88235295  ,0.627451    ,0.42352942  ,0.00392157  ,0.          ,0.\n",
    "  ,0.          ,0.          ,0.          ,0.          ,0.          ,0.          ,0.\n",
    "  ,0.          ,0.          ,0.          ,0.          ,0.          ,0.          ,0.\n",
    "  ,0.          ,0.          ,0.          ,0.          ,0.          ,0.          ,0.\n",
    "  ,0.31764707  ,0.94117647  ,0.99215686  ,0.99215686  ,0.46666667  ,0.09803922\n",
    "  ,0.          ,0.          ,0.          ,0.          ,0.          ,0.          ,0.\n",
    "  ,0.          ,0.          ,0.          ,0.          ,0.          ,0.          ,0.\n",
    "  ,0.          ,0.          ,0.          ,0.          ,0.          ,0.          ,0.\n",
    "  ,0.          ,0.          ,0.17647059  ,0.72941178  ,0.99215686  ,0.99215686\n",
    "  ,0.58823532  ,0.10588235  ,0.          ,0.          ,0.          ,0.          ,0.\n",
    "  ,0.          ,0.          ,0.          ,0.          ,0.          ,0.          ,0.\n",
    "  ,0.          ,0.          ,0.          ,0.          ,0.          ,0.          ,0.\n",
    "  ,0.          ,0.          ,0.          ,0.          ,0.0627451   ,0.36470589\n",
    "  ,0.98823529  ,0.99215686  ,0.73333335  ,0.          ,0.          ,0.          ,0.\n",
    "  ,0.          ,0.          ,0.          ,0.          ,0.          ,0.          ,0.\n",
    "  ,0.          ,0.          ,0.          ,0.          ,0.          ,0.          ,0.\n",
    "  ,0.          ,0.          ,0.          ,0.          ,0.          ,0.          ,0.\n",
    "  ,0.97647059  ,0.99215686  ,0.97647059  ,0.25098041  ,0.          ,0.          ,0.\n",
    "  ,0.          ,0.          ,0.          ,0.          ,0.          ,0.          ,0.\n",
    "  ,0.          ,0.          ,0.          ,0.          ,0.          ,0.          ,0.\n",
    "  ,0.          ,0.          ,0.          ,0.          ,0.18039216  ,0.50980395\n",
    "  ,0.71764708  ,0.99215686  ,0.99215686  ,0.81176472  ,0.00784314  ,0.          ,0.\n",
    "  ,0.          ,0.          ,0.          ,0.          ,0.          ,0.          ,0.\n",
    "  ,0.          ,0.          ,0.          ,0.          ,0.          ,0.          ,0.\n",
    "  ,0.          ,0.          ,0.          ,0.15294118  ,0.58039218  ,0.89803922\n",
    "  ,0.99215686  ,0.99215686  ,0.99215686  ,0.98039216  ,0.71372551  ,0.          ,0.\n",
    "  ,0.          ,0.          ,0.          ,0.          ,0.          ,0.          ,0.\n",
    "  ,0.          ,0.          ,0.          ,0.          ,0.          ,0.          ,0.\n",
    "  ,0.          ,0.          ,0.09411765  ,0.44705883  ,0.86666667  ,0.99215686\n",
    "  ,0.99215686  ,0.99215686  ,0.99215686  ,0.78823531  ,0.30588236  ,0.          ,0.\n",
    "  ,0.          ,0.          ,0.          ,0.          ,0.          ,0.          ,0.\n",
    "  ,0.          ,0.          ,0.          ,0.          ,0.          ,0.          ,0.\n",
    "  ,0.          ,0.09019608  ,0.25882354  ,0.83529413  ,0.99215686  ,0.99215686\n",
    "  ,0.99215686  ,0.99215686  ,0.7764706   ,0.31764707  ,0.00784314  ,0.          ,0.\n",
    "  ,0.          ,0.          ,0.          ,0.          ,0.          ,0.          ,0.\n",
    "  ,0.          ,0.          ,0.          ,0.          ,0.          ,0.          ,0.\n",
    "  ,0.07058824  ,0.67058825  ,0.85882354  ,0.99215686  ,0.99215686  ,0.99215686\n",
    "  ,0.99215686  ,0.7647059   ,0.3137255   ,0.03529412  ,0.          ,0.          ,0.\n",
    "  ,0.          ,0.          ,0.          ,0.          ,0.          ,0.          ,0.\n",
    "  ,0.          ,0.          ,0.          ,0.          ,0.          ,0.\n",
    "  ,0.21568628  ,0.67450982  ,0.88627452  ,0.99215686  ,0.99215686  ,0.99215686\n",
    "  ,0.99215686  ,0.95686275  ,0.52156866  ,0.04313726  ,0.          ,0.          ,0.\n",
    "  ,0.          ,0.          ,0.          ,0.          ,0.          ,0.          ,0.\n",
    "  ,0.          ,0.          ,0.          ,0.          ,0.          ,0.          ,0.\n",
    "  ,0.          ,0.53333336  ,0.99215686  ,0.99215686  ,0.99215686  ,0.83137256\n",
    "  ,0.52941179  ,0.51764709  ,0.0627451   ,0.          ,0.          ,0.          ,0.\n",
    "  ,0.          ,0.          ,0.          ,0.          ,0.          ,0.          ,0.\n",
    "  ,0.          ,0.          ,0.          ,0.          ,0.          ,0.          ,0.\n",
    "  ,0.          ,0.          ,0.          ,0.          ,0.          ,0.          ,0.\n",
    "  ,0.          ,0.          ,0.          ,0.          ,0.          ,0.          ,0.\n",
    "  ,0.          ,0.          ,0.          ,0.          ,0.          ,0.          ,0.\n",
    "  ,0.          ,0.          ,0.          ,0.          ,0.          ,0.          ,0.\n",
    "  ,0.          ,0.          ,0.          ,0.          ,0.          ,0.          ,0.\n",
    "  ,0.          ,0.          ,0.          ,0.          ,0.          ,0.          ,0.\n",
    "  ,0.          ,0.          ,0.          ,0.          ,0.          ,0.          ,0.\n",
    "  ,0.          ,0.          ,0.          ,0.          ,0.          ,0.          ,0.\n",
    "  ,0.          ,0.          ,0.          ,0.          ,0.          ,0.          ,0.\n",
    "  ,0.          ,0.          ,0.          ,0.          ,0.          ,0.          ,0.\n",
    "  ,0.          ,0.          ,0.          ,0.          ,0.          ,0.          ,0.\n",
    "  ,0.          ,0.          ,0.          ,0.          ,0.        ]])"
   ]
  },
  {
   "cell_type": "code",
   "execution_count": 66,
   "metadata": {},
   "outputs": [
    {
     "name": "stderr",
     "output_type": "stream",
     "text": [
      "18-06-19:00:25:55 INFO     [clipper_admin.py:201] Application simple2 was successfully registered\n",
      "18-06-19:00:25:55 INFO     [deployer_utils.py:44] Saving function to /tmp/clipper/tmppzeidK\n",
      "18-06-19:00:25:55 INFO     [deployer_utils.py:54] Serialized and supplied predict function\n",
      "18-06-19:00:25:56 INFO     [tensorflow.py:191] TensorFlow model saved at: /tmp/clipper/tmppzeidK/tfmodel/model.ckpt \n",
      "18-06-19:00:25:56 INFO     [clipper_admin.py:452] Building model Docker image with model data from /tmp/clipper/tmppzeidK\n",
      "18-06-19:00:25:56 INFO     [clipper_admin.py:456] {u'stream': u'Step 1/2 : FROM clipper/tf-container:develop'}\n",
      "18-06-19:00:25:56 INFO     [clipper_admin.py:456] {u'stream': u'\\n'}\n",
      "18-06-19:00:25:56 INFO     [clipper_admin.py:456] {u'stream': u' ---> 5f65f2032eb5\\n'}\n",
      "18-06-19:00:25:56 INFO     [clipper_admin.py:456] {u'stream': u'Step 2/2 : COPY /tmp/clipper/tmppzeidK /model/'}\n",
      "18-06-19:00:25:56 INFO     [clipper_admin.py:456] {u'stream': u'\\n'}\n",
      "18-06-19:00:25:56 INFO     [clipper_admin.py:456] {u'stream': u' ---> e8069150f650\\n'}\n",
      "18-06-19:00:25:56 INFO     [clipper_admin.py:456] {u'aux': {u'ID': u'sha256:e8069150f6507bd2b3a3f05f3e343fa50a929f0b419ba72fdd68109392800ec6'}}\n",
      "18-06-19:00:25:56 INFO     [clipper_admin.py:456] {u'stream': u'Successfully built e8069150f650\\n'}\n",
      "18-06-19:00:25:56 INFO     [clipper_admin.py:456] {u'stream': u'Successfully tagged simple2:1\\n'}\n",
      "18-06-19:00:25:56 INFO     [clipper_admin.py:458] Pushing model Docker image to simple2:1\n",
      "18-06-19:00:26:01 INFO     [docker_container_manager.py:257] Found 0 replicas for simple2:1. Adding 1\n",
      "18-06-19:00:26:08 INFO     [clipper_admin.py:635] Successfully registered model simple2:1\n",
      "18-06-19:00:26:08 INFO     [clipper_admin.py:553] Done deploying model simple2:1.\n",
      "18-06-19:00:26:08 INFO     [clipper_admin.py:263] Model simple2 is now linked to application simple2\n"
     ]
    }
   ],
   "source": [
    "create_endpoint(conn, 'simple2', 'floats', predict, sess)"
   ]
  },
  {
   "cell_type": "code",
   "execution_count": 85,
   "metadata": {},
   "outputs": [
    {
     "name": "stderr",
     "output_type": "stream",
     "text": [
      "18-06-21:21:19:24 INFO     [deployer_utils.py:44] Saving function to /tmp/clipper/tmpXlQYYA\n",
      "18-06-21:21:19:24 INFO     [deployer_utils.py:54] Serialized and supplied predict function\n",
      "18-06-21:21:19:24 INFO     [tensorflow.py:191] TensorFlow model saved at: /tmp/clipper/tmpXlQYYA/tfmodel/model.ckpt \n",
      "18-06-21:21:19:24 INFO     [clipper_admin.py:452] Building model Docker image with model data from /tmp/clipper/tmpXlQYYA\n",
      "18-06-21:21:19:25 INFO     [clipper_admin.py:456] {u'stream': u'Step 1/2 : FROM clipper/tf-container:develop'}\n",
      "18-06-21:21:19:25 INFO     [clipper_admin.py:456] {u'stream': u'\\n'}\n",
      "18-06-21:21:19:25 INFO     [clipper_admin.py:456] {u'stream': u' ---> 5f65f2032eb5\\n'}\n",
      "18-06-21:21:19:25 INFO     [clipper_admin.py:456] {u'stream': u'Step 2/2 : COPY /tmp/clipper/tmpXlQYYA /model/'}\n",
      "18-06-21:21:19:25 INFO     [clipper_admin.py:456] {u'stream': u'\\n'}\n",
      "18-06-21:21:19:25 INFO     [clipper_admin.py:456] {u'stream': u' ---> 15f4a5c9ca63\\n'}\n",
      "18-06-21:21:19:25 INFO     [clipper_admin.py:456] {u'aux': {u'ID': u'sha256:15f4a5c9ca6309334e6b04f258cddc11a9fa6fb42342e191587acc261ce9344a'}}\n",
      "18-06-21:21:19:25 INFO     [clipper_admin.py:456] {u'stream': u'Successfully built 15f4a5c9ca63\\n'}\n",
      "18-06-21:21:19:25 INFO     [clipper_admin.py:456] {u'stream': u'Successfully tagged simple:1\\n'}\n",
      "18-06-21:21:19:25 INFO     [clipper_admin.py:458] Pushing model Docker image to simple:1\n",
      "18-06-21:21:19:32 INFO     [docker_container_manager.py:257] Found 0 replicas for simple:1. Adding 1\n",
      "18-06-21:21:19:42 INFO     [clipper_admin.py:635] Successfully registered model simple:1\n",
      "18-06-21:21:19:42 INFO     [clipper_admin.py:553] Done deploying model simple:1.\n"
     ]
    }
   ],
   "source": [
    "deploy_tensorflow_model(conn, 'simple', 1, 'floats', predict, sess)"
   ]
  },
  {
   "cell_type": "code",
   "execution_count": 42,
   "metadata": {},
   "outputs": [
    {
     "data": {
      "text/plain": [
       "[u'simple']"
      ]
     },
     "execution_count": 42,
     "metadata": {},
     "output_type": "execute_result"
    }
   ],
   "source": [
    "conn.get_all_apps()"
   ]
  },
  {
   "cell_type": "code",
   "execution_count": null,
   "metadata": {},
   "outputs": [],
   "source": [
    "def feature_sum(xs):\n",
    "    return [str(sum(x)) for x in xs]"
   ]
  },
  {
   "cell_type": "code",
   "execution_count": null,
   "metadata": {},
   "outputs": [],
   "source": [
    "python_deployer.deploy_python_closure(conn, name='predict', version=1, input_type='floats', func=predict)"
   ]
  },
  {
   "cell_type": "code",
   "execution_count": 86,
   "metadata": {},
   "outputs": [
    {
     "name": "stderr",
     "output_type": "stream",
     "text": [
      "18-06-21:21:19:57 INFO     [clipper_admin.py:263] Model simple is now linked to application simple\n"
     ]
    }
   ],
   "source": [
    "conn.link_model_to_app(app_name='simple', model_name='simple')"
   ]
  },
  {
   "cell_type": "code",
   "execution_count": 87,
   "metadata": {},
   "outputs": [
    {
     "data": {
      "text/plain": [
       "'localhost:1337'"
      ]
     },
     "execution_count": 87,
     "metadata": {},
     "output_type": "execute_result"
    }
   ],
   "source": [
    "conn.get_query_addr()"
   ]
  },
  {
   "cell_type": "code",
   "execution_count": 73,
   "metadata": {},
   "outputs": [
    {
     "data": {
      "text/plain": [
       "[]"
      ]
     },
     "execution_count": 73,
     "metadata": {},
     "output_type": "execute_result"
    }
   ],
   "source": [
    "conn.get_linked_models(app_name=\"simple\")"
   ]
  },
  {
   "cell_type": "code",
   "execution_count": 74,
   "metadata": {},
   "outputs": [
    {
     "name": "stderr",
     "output_type": "stream",
     "text": [
      "18-06-21:08:41:40 ERROR    [clipper_admin.py:258] Received error status code: 400 and message: No app with name 'simple2' exists.\n"
     ]
    },
    {
     "ename": "ClipperException",
     "evalue": "Received error status code: 400 and message: No app with name 'simple2' exists.",
     "output_type": "error",
     "traceback": [
      "\u001b[0;31m---------------------------------------------------------------------------\u001b[0m",
      "\u001b[0;31mClipperException\u001b[0m                          Traceback (most recent call last)",
      "\u001b[0;32m<ipython-input-74-73964490fc54>\u001b[0m in \u001b[0;36m<module>\u001b[0;34m()\u001b[0m\n\u001b[0;32m----> 1\u001b[0;31m \u001b[0mconn\u001b[0m\u001b[0;34m.\u001b[0m\u001b[0mlink_model_to_app\u001b[0m\u001b[0;34m(\u001b[0m\u001b[0mapp_name\u001b[0m\u001b[0;34m=\u001b[0m\u001b[0;34m\"simple2\"\u001b[0m\u001b[0;34m,\u001b[0m \u001b[0mmodel_name\u001b[0m\u001b[0;34m=\u001b[0m\u001b[0;34m\"simple2\"\u001b[0m\u001b[0;34m)\u001b[0m\u001b[0;34m\u001b[0m\u001b[0m\n\u001b[0m",
      "\u001b[0;32m/Users/markmo/miniconda3/envs/clipper/lib/python2.7/site-packages/clipper_admin/clipper_admin.pyc\u001b[0m in \u001b[0;36mlink_model_to_app\u001b[0;34m(self, app_name, model_name)\u001b[0m\n\u001b[1;32m    257\u001b[0m                 code=r.status_code, msg=r.text)\n\u001b[1;32m    258\u001b[0m             \u001b[0mlogger\u001b[0m\u001b[0;34m.\u001b[0m\u001b[0merror\u001b[0m\u001b[0;34m(\u001b[0m\u001b[0mmsg\u001b[0m\u001b[0;34m)\u001b[0m\u001b[0;34m\u001b[0m\u001b[0m\n\u001b[0;32m--> 259\u001b[0;31m             \u001b[0;32mraise\u001b[0m \u001b[0mClipperException\u001b[0m\u001b[0;34m(\u001b[0m\u001b[0mmsg\u001b[0m\u001b[0;34m)\u001b[0m\u001b[0;34m\u001b[0m\u001b[0m\n\u001b[0m\u001b[1;32m    260\u001b[0m         \u001b[0;32melse\u001b[0m\u001b[0;34m:\u001b[0m\u001b[0;34m\u001b[0m\u001b[0m\n\u001b[1;32m    261\u001b[0m             logger.info(\n",
      "\u001b[0;31mClipperException\u001b[0m: Received error status code: 400 and message: No app with name 'simple2' exists."
     ]
    }
   ],
   "source": [
    "conn.link_model_to_app(app_name=\"simple2\", model_name=\"simple2\")"
   ]
  },
  {
   "cell_type": "code",
   "execution_count": null,
   "metadata": {},
   "outputs": [],
   "source": []
  },
  {
   "cell_type": "code",
   "execution_count": 68,
   "metadata": {},
   "outputs": [
    {
     "data": {
      "text/plain": [
       "['/Users/markmo/src/ML/clipper_test/clipper_logs/image_sha256:c8ecf7c719:container_b5f5ae98ca.log',\n",
       " '/Users/markmo/src/ML/clipper_test/clipper_logs/image_sha256:2fd23bd9c3:container_4c071fa5c4.log',\n",
       " '/Users/markmo/src/ML/clipper_test/clipper_logs/image_sha256:fa59587377:container_84078edd6e.log',\n",
       " '/Users/markmo/src/ML/clipper_test/clipper_logs/image_sha256:274991201d:container_ab1f71f899.log',\n",
       " '/Users/markmo/src/ML/clipper_test/clipper_logs/image_sha256:494c839f5b:container_d8e6eb3727.log']"
      ]
     },
     "execution_count": 68,
     "metadata": {},
     "output_type": "execute_result"
    }
   ],
   "source": [
    "conn.get_clipper_logs()\n"
   ]
  },
  {
   "cell_type": "markdown",
   "metadata": {},
   "source": [
    "## Cleanup"
   ]
  },
  {
   "cell_type": "code",
   "execution_count": 88,
   "metadata": {},
   "outputs": [
    {
     "name": "stderr",
     "output_type": "stream",
     "text": [
      "18-06-21:21:22:14 INFO     [clipper_admin.py:1258] Stopped all Clipper cluster and all model containers\n"
     ]
    }
   ],
   "source": [
    "conn.stop_all()"
   ]
  },
  {
   "cell_type": "code",
   "execution_count": null,
   "metadata": {},
   "outputs": [],
   "source": []
  }
 ],
 "metadata": {
  "kernelspec": {
   "display_name": "Python [conda env:clipper]",
   "language": "python",
   "name": "conda-env-clipper-py"
  },
  "language_info": {
   "codemirror_mode": {
    "name": "ipython",
    "version": 2
   },
   "file_extension": ".py",
   "mimetype": "text/x-python",
   "name": "python",
   "nbconvert_exporter": "python",
   "pygments_lexer": "ipython2",
   "version": "2.7.15"
  }
 },
 "nbformat": 4,
 "nbformat_minor": 2
}
